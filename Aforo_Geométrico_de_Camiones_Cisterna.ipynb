{
  "nbformat": 4,
  "nbformat_minor": 0,
  "metadata": {
    "colab": {
      "name": "Aforo Geométrico de Camiones Cisterna.ipynb",
      "provenance": [],
      "authorship_tag": "ABX9TyP4b9tVxXxpMT19PnBy/R1i",
      "include_colab_link": true
    },
    "kernelspec": {
      "name": "python3",
      "display_name": "Python 3"
    },
    "language_info": {
      "name": "python"
    }
  },
  "cells": [
    {
      "cell_type": "markdown",
      "metadata": {
        "id": "view-in-github",
        "colab_type": "text"
      },
      "source": [
        "<a href=\"https://colab.research.google.com/github/Javierhhths/Aforo_Tanque_Camiones_Cisterna/blob/main/Aforo_Geom%C3%A9trico_de_Camiones_Cisterna.ipynb\" target=\"_parent\"><img src=\"https://colab.research.google.com/assets/colab-badge.svg\" alt=\"Open In Colab\"/></a>"
      ]
    },
    {
      "cell_type": "code",
      "execution_count": null,
      "metadata": {
        "id": "9PbeH3wUVMht"
      },
      "outputs": [],
      "source": [
        "from scipy.optimize import fsolve\n",
        "import numpy as np\n",
        "import pandas as pd\n",
        "from google.colab import files"
      ]
    },
    {
      "cell_type": "code",
      "source": [
        "def VolumenBodegaPorCm(a,b,L,num_bodega):\n",
        "\n",
        "  \"\"\"Esta función recibe como argumentos el semieje mayor a y el semieje menor b de la sección elíptica del tanque del camión cisterna, además del largo y el número de la bodega a aforar -todas las medidas en centímetros- (generalmente, éstos se dividen en compartimientos de geometría análoga al tanque completo, mediante cortes transversales al mismo) y devuelve un archivo de Excel, que contiene el aforo volumétrico de la misma, reportando el volumen (en galones) por cada centímetro de altura de la misma.\"\"\"\n",
        "\n",
        "  X=np.linspace(1,2*b,2*b,endpoint=True,dtype=int)\n",
        "  V=np.zeros(len(X))\n",
        "\n",
        "  for i in range(0,len(V),1):\n",
        "    V[i]= (a*b*(((np.pi/2)+np.arcsin((X[i]/b)-1))+(X[i]-b)*((2*b*X[i]-(X[i]**2))**0.5)/(b**2))*L)/3785.41\n",
        "  \n",
        "  df=pd.DataFrame({'Volumen_[gal]':V, 'Altura_[cm]':X})\n",
        "  df.to_excel(\"Aforo Bodega #\" + str(num_bodega) + \".xlsx\")\n",
        "  files.download(\"Aforo Bodega #\" + str(num_bodega) + \".xlsx\")"
      ],
      "metadata": {
        "id": "HOYlrqVIVXdg"
      },
      "execution_count": null,
      "outputs": []
    },
    {
      "cell_type": "code",
      "source": [
        "def VolumenBodegaPorGal(a,b,L,num_bodega):\n",
        "  \n",
        "  \"\"\"Esta función recibe como argumentos el semieje mayor a y el semieje menor b de la sección elíptica del tanque del camión cisterna, además del largo y el número de la bodega a aforar -todas las medidas en centímetros- (generalmente, éstos se dividen en compartimientos de geometría análoga al tanque completo, mediante cortes transversales al mismo) y devuelve un archivo de Excel, que contiene el aforo volumétrico de la misma, reportando la altura correspondiente (en cm) a cada 10 galones de volumen.\"\"\"\n",
        "  \n",
        "  VTotal=(np.pi*a*b*L)/3785.41\n",
        "  n=int(VTotal-(VTotal%10))\n",
        "  num_puntos=int(n/10)\n",
        "  V=np.linspace(10,n,num_puntos,endpoint=True,dtype=int)\n",
        "  X=np.zeros(len(V))\n",
        "  \n",
        "  for i in range(0,len(V),1):\n",
        "    def f(x):\n",
        "      return V[i]-(a*b*(((np.pi/2)+np.arcsin((x/b)-1))+(x-b)*((2*b*x-(x**2))**0.5)/(b**2))*L)/3785.41\n",
        "    X[i] = fsolve(f, 1)\n",
        "  \n",
        "  X=np.append(X,(2*b))\n",
        "  V=np.append(V,VTotal)\n",
        "\n",
        "  df=pd.DataFrame({'Volumen_[gal]':V, 'Altura_[cm]':X})\n",
        "  df.to_excel(\"Aforo Bodega #\" + str(num_bodega) + \".xlsx\")\n",
        "  files.download(\"Aforo Bodega #\" + str(num_bodega) + \".xlsx\")"
      ],
      "metadata": {
        "id": "TfyY1uzRc1Mn"
      },
      "execution_count": null,
      "outputs": []
    }
  ]
}